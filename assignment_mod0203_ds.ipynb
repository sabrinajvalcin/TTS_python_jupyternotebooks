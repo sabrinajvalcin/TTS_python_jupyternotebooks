{
 "cells": [
  {
   "cell_type": "markdown",
   "id": "57759310-b317-45b1-9299-661588b80b7a",
   "metadata": {},
   "source": [
    "# Data Structures Assignment"
   ]
  },
  {
   "cell_type": "markdown",
   "id": "574199ee-148b-4680-aad9-9012d423819a",
   "metadata": {},
   "source": [
    "1. In mathematics, the quadratic equation ax2+bx+c=0 can be solved with the formula x=−b±b2−4ac√2a. <br> Write a function solve_quadratic, that returns both solutions of a generic quadratic as a pair (2-tuple) when the coefficients are given as parameters. It should work like this: <br><br>print(solve_quadratic(1,-3,2))<br>(2.0,1.0)<br>print(solve_quadratic(1,2,1)<br>(-1.0,-1.0)\n"
   ]
  },
  {
   "cell_type": "code",
   "execution_count": 6,
   "id": "dd857c3b-1850-459e-ab36-7c8b2c4412b6",
   "metadata": {},
   "outputs": [
    {
     "name": "stdout",
     "output_type": "stream",
     "text": [
      "(2.0, 1.0)\n",
      "(-1.0, -1.0)\n"
     ]
    }
   ],
   "source": [
    "def solve_quadratic(a,b,c):\n",
    "    zeros_1=(-b + (b**2 - 4*a*c)**(1/2))/(2*a)\n",
    "    zeros_2=(-b - (b**2 - 4*a*c)**(1/2))/(2*a)\n",
    "    return (zeros_1, zeros_2)\n",
    "print(solve_quadratic(1,-3,2))\n",
    "print(solve_quadratic(1,2,1))\n",
    "    "
   ]
  },
  {
   "cell_type": "markdown",
   "id": "c514a0a4-d2c3-4cad-9760-7734f206340c",
   "metadata": {},
   "source": [
    "2. Get a space-separated list of integers from the user, create a tuple of those integers. Then compute and print the result of hash(tuple)."
   ]
  },
  {
   "cell_type": "code",
   "execution_count": 43,
   "id": "51cb3ef3-b41f-48ee-9f02-f63de58a6fde",
   "metadata": {},
   "outputs": [
    {
     "name": "stdin",
     "output_type": "stream",
     "text": [
      "Enter intergers separated by a space:  10 20 30\n"
     ]
    },
    {
     "name": "stdout",
     "output_type": "stream",
     "text": [
      "(10, 20, 30)\n",
      "3952409569436607343\n"
     ]
    }
   ],
   "source": [
    "user_in = input('Enter intergers separated by a space: ')\n",
    "args = user_in.split(' ')\n",
    "numbers = ()\n",
    "for arg in args:\n",
    "    numbers = numbers + (int(arg),)\n",
    "print(numbers)\n",
    "print(hash(numbers))\n"
   ]
  },
  {
   "cell_type": "markdown",
   "id": "0c9c1446-db41-4210-9e75-c7d823c45f1f",
   "metadata": {},
   "source": [
    "3. Take the following two lists. Create a third list by picking the odd-index elements from the first list and the even-index elements from the second list.<br>listOne = [3, 6, 9, 12, 15, 18, 21]<br>listTwo = [4, 8, 12, 16, 20, 24, 28]"
   ]
  },
  {
   "cell_type": "code",
   "execution_count": 51,
   "id": "6806d162-7c48-42c4-9669-4b33d48487b2",
   "metadata": {},
   "outputs": [
    {
     "name": "stdout",
     "output_type": "stream",
     "text": [
      "[6, 12, 18, 4, 12, 20, 28]\n"
     ]
    }
   ],
   "source": [
    "listOne = [3, 6, 9, 12, 15, 18, 21]\n",
    "listTwo = [4, 8, 12, 16, 20, 24, 28]\n",
    "listThree = listOne[1::2] +listTwo[0::2]\n",
    "print(listThree)"
   ]
  },
  {
   "cell_type": "markdown",
   "id": "be941f76-f6ae-4d08-9c80-04f57c2549e8",
   "metadata": {},
   "source": [
    "4. Take the following list. Slice it into three equal chunks and reverse each list.<br><br>sampleList = [11, 45, 8, 23, 14, 12, 78, 45, 89]"
   ]
  },
  {
   "cell_type": "code",
   "execution_count": 78,
   "id": "a78d04c2-a6b9-4140-862e-cbf67f2c28fc",
   "metadata": {},
   "outputs": [
    {
     "name": "stdout",
     "output_type": "stream",
     "text": [
      "[8, 45, 11] [12, 14, 23] [89, 45, 78]\n"
     ]
    }
   ],
   "source": [
    "sampleList = [11, 45, 8, 23, 14, 12, 78, 45, 89]\n",
    "sub1 =sampleList[:3]\n",
    "sub1.reverse()\n",
    "sub2 = sampleList[3:6]\n",
    "sub2.reverse()\n",
    "sub3 = sampleList[6:9]\n",
    "sub3.reverse()\n",
    "print(sub1, sub2, sub3)"
   ]
  },
  {
   "cell_type": "markdown",
   "id": "ea7943be-27c4-4d71-9559-a7df0b88a9b5",
   "metadata": {},
   "source": [
    "5. Iterate through a given list and check if a given element already exists in a dictionary as a key’s value. If not, delete it from the list.<br><br>rollNumber = [47, 64, 69, 37, 76, 83, 95, 97]<br>sampleDict ={'Zach':47, 'Emma':69, 'Kelly':76, 'Jason':97}"
   ]
  },
  {
   "cell_type": "code",
   "execution_count": 67,
   "id": "63819e3f-3bee-4fa4-8a22-7d0cc1798ef6",
   "metadata": {},
   "outputs": [
    {
     "name": "stdout",
     "output_type": "stream",
     "text": [
      "[64, 37, 83, 95]\n"
     ]
    }
   ],
   "source": [
    "rollNumber = [47, 64, 69, 37, 76, 83, 95, 97]\n",
    "sampleDict ={'Zach':47, 'Emma':69, 'Kelly':76, 'Jason':97}\n",
    "vals = sampleDict.values()\n",
    "for item in vals:\n",
    "    if item in rollNumber:\n",
    "        rollNumber.remove(item)\n",
    "print(rollNumber)"
   ]
  }
 ],
 "metadata": {
  "kernelspec": {
   "display_name": "Python 3 (ipykernel)",
   "language": "python",
   "name": "python3"
  },
  "language_info": {
   "codemirror_mode": {
    "name": "ipython",
    "version": 3
   },
   "file_extension": ".py",
   "mimetype": "text/x-python",
   "name": "python",
   "nbconvert_exporter": "python",
   "pygments_lexer": "ipython3",
   "version": "3.9.7"
  }
 },
 "nbformat": 4,
 "nbformat_minor": 5
}
