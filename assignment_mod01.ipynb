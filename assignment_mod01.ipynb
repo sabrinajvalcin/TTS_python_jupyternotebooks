{
 "cells": [
  {
   "cell_type": "markdown",
   "id": "056e3b76-652a-4ac4-9d53-c03ffc91c976",
   "metadata": {},
   "source": [
    "# Module 01 Assignment"
   ]
  },
  {
   "cell_type": "markdown",
   "id": "53349e3f-f26b-495e-a229-d19f40c32b8b",
   "metadata": {},
   "source": [
    "#### 1. Accept the user's first and last name and print them in reverse order with a space between them"
   ]
  },
  {
   "cell_type": "code",
   "execution_count": null,
   "id": "5e2b031e-bcdb-49ef-95be-f49870953dcb",
   "metadata": {},
   "outputs": [],
   "source": [
    "first_name = input('Input your First Name : ')\n",
    "last_name = input('Input your Last Name : ')\n",
    "print('Hello',last_name, first_name, sep = ' ')\n"
   ]
  },
  {
   "cell_type": "markdown",
   "id": "caeb4d37-ecfc-42c6-a521-dfefa8a70313",
   "metadata": {},
   "source": [
    "#### 2. Accept an integer (n) input from the user and compute the value of n+nn+nnn.\n",
    "For example if n=4 then n + nn + nnn = 4 + 44 + 444 = 492"
   ]
  },
  {
   "cell_type": "code",
   "execution_count": null,
   "id": "033d5986-aa24-4d53-a917-56b76dcea3ed",
   "metadata": {},
   "outputs": [],
   "source": [
    "sum = 0\n",
    "str_int = input('Input an integer: ')\n",
    "sum+= int(str_int) + int(str_int*2) + int(str_int*3)\n",
    "print(sum)"
   ]
  },
  {
   "cell_type": "markdown",
   "id": "a54f3208-6d54-49e4-94ad-497c848e4a0b",
   "metadata": {
    "tags": []
   },
   "source": [
    "#### 3. Ask the user \"What country are you from?\" then print the following statement: \"I have heard that [input] is a beautiful country!\""
   ]
  },
  {
   "cell_type": "code",
   "execution_count": null,
   "id": "508ad80f-4a08-4ba8-873d-b3d0ebcd58e6",
   "metadata": {},
   "outputs": [],
   "source": [
    "country = input('What country are your from? ')\n",
    "print('I have heard that ' +country+ ' is a beautiful country!')"
   ]
  },
  {
   "cell_type": "markdown",
   "id": "467cbe27-0f91-432b-9734-9f4c1bb32a03",
   "metadata": {
    "tags": []
   },
   "source": [
    "#### 4. What is the output of the following Python code"
   ]
  },
  {
   "cell_type": "code",
   "execution_count": 1,
   "id": "4eaea4c1-5561-4788-b3b5-3685e18bb96f",
   "metadata": {},
   "outputs": [],
   "source": [
    "x = 10\n",
    "y = 50\n",
    "if (x ** 2 > 100 and y < 100):\n",
    "    print(x, y)"
   ]
  },
  {
   "cell_type": "markdown",
   "id": "44b81a7a-923e-4204-8f87-58b7adc14f5d",
   "metadata": {},
   "source": [
    "The program runs without executing the print statemnet in the if statement because x**2 is not greater than 100"
   ]
  },
  {
   "cell_type": "markdown",
   "id": "3af5d060-0650-402b-bded-1d4aa52b7df6",
   "metadata": {},
   "source": [
    "#### 5. What is the output of the following addition (+) operator, and why does this code chunk execute this way?\n"
   ]
  },
  {
   "cell_type": "code",
   "execution_count": 9,
   "id": "ff854508-ffe7-4f7b-9a06-9fd7663b2f4a",
   "metadata": {},
   "outputs": [
    {
     "name": "stdout",
     "output_type": "stream",
     "text": [
      "[10, 20, 30, 40]\n",
      "[10, 20, 30, 40]\n"
     ]
    }
   ],
   "source": [
    "a = [10, 20]\n",
    "b = a\n",
    "b += [30, 40]\n",
    "print(a)\n",
    "print(b)"
   ]
  },
  {
   "cell_type": "markdown",
   "id": "8b527258-d1dc-4308-b7a9-39fc868595ba",
   "metadata": {},
   "source": [
    "\n",
    "The + operators appends elements of one list to another list"
   ]
  },
  {
   "cell_type": "markdown",
   "id": "c1f8f5c0-5ca4-43f5-8e53-91532d045e81",
   "metadata": {},
   "source": [
    "#### 6. What is the output of the following code and what arithmetic operators is being used here?"
   ]
  },
  {
   "cell_type": "code",
   "execution_count": 11,
   "id": "320ca723-25ed-4e51-8867-1370c36268de",
   "metadata": {},
   "outputs": [
    {
     "name": "stdout",
     "output_type": "stream",
     "text": [
      "2\n"
     ]
    }
   ],
   "source": [
    "print(2%6)"
   ]
  },
  {
   "cell_type": "markdown",
   "id": "655f05bd-8cab-45d4-aa3e-49c4167c8fc8",
   "metadata": {},
   "source": [
    "The modulo operator is represented by % and it returns the remainder. <br>In the example above, 2/6 is equal to 0 remainder 2.<br> So 2%6 = 2"
   ]
  },
  {
   "cell_type": "markdown",
   "id": "f36f63eb-d6d8-4c83-8b8a-07d13a237384",
   "metadata": {},
   "source": [
    "#### 7. What is the output of the following code and what arithmetic operators are used here?"
   ]
  },
  {
   "cell_type": "code",
   "execution_count": 12,
   "id": "0467c173-f3de-47fe-99dc-9ebdb1c0de61",
   "metadata": {},
   "outputs": [
    {
     "name": "stdout",
     "output_type": "stream",
     "text": [
      "216\n"
     ]
    }
   ],
   "source": [
    "print(2 * 3 ** 3 * 4)"
   ]
  },
  {
   "cell_type": "markdown",
   "id": "7434ddb9-0f81-405e-8e2f-ed9abf0d04b6",
   "metadata": {},
   "source": [
    "Multiplication and exponentiation is used in the expression in the print statement above"
   ]
  },
  {
   "cell_type": "markdown",
   "id": "24b1d049-f87a-49d9-9188-7a8eb4dceb66",
   "metadata": {},
   "source": [
    "#### 8. What is a text editor?\n",
    "A program used to create and edit text files"
   ]
  },
  {
   "cell_type": "markdown",
   "id": "2433c420-d937-4969-ad5e-9e391e572e2e",
   "metadata": {},
   "source": [
    "#### 9. What is python?\n",
    "A computer programming language"
   ]
  },
  {
   "cell_type": "markdown",
   "id": "b99102e6-94bc-4636-8dd8-d29bb6168632",
   "metadata": {},
   "source": [
    "#### 10. What is jupyter notebook, what type of python environment is it, and what alternatives are there to jupyter notebook?\n",
    "Jupyter notebook is an IDE that supports python and other languages. Some alternatives to Jupyter notebook are  VS Code, PyCharm, and Atom."
   ]
  },
  {
   "cell_type": "code",
   "execution_count": null,
   "id": "43194b7a-f590-4600-8de4-b0690ae88759",
   "metadata": {},
   "outputs": [],
   "source": []
  }
 ],
 "metadata": {
  "kernelspec": {
   "display_name": "Python 3 (ipykernel)",
   "language": "python",
   "name": "python3"
  },
  "language_info": {
   "codemirror_mode": {
    "name": "ipython",
    "version": 3
   },
   "file_extension": ".py",
   "mimetype": "text/x-python",
   "name": "python",
   "nbconvert_exporter": "python",
   "pygments_lexer": "ipython3",
   "version": "3.9.7"
  }
 },
 "nbformat": 4,
 "nbformat_minor": 5
}
