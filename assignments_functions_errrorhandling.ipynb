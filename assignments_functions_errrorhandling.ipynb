{
 "cells": [
  {
   "cell_type": "markdown",
   "id": "a23a8831-aaec-45b2-a60d-6caa7506e927",
   "metadata": {},
   "source": [
    "# Functions and Error Handling Exercises"
   ]
  },
  {
   "cell_type": "markdown",
   "id": "4bb4954d-f78a-43fb-bec3-69ac9dc72118",
   "metadata": {},
   "source": [
    "1. Given a year, determine whether it is a leap year. If it is a leap year, return the Boolean True, otherwise return False.\n",
    "In the Gregorian calendar, three conditions are used to identify leap years:\n",
    "\n",
    "* The year can be evenly divided by 4, is a leap year, unless:\n",
    "    * The year can be evenly divided by 100, it is NOT a leap year, unless:\n",
    "        * The year is also evenly divisible by 400. Then it is a leap year.\n",
    "\n",
    "\n",
    "\n"
   ]
  },
  {
   "cell_type": "code",
   "execution_count": 7,
   "id": "d82ee2b5-0de7-412d-9465-3600a7102d3c",
   "metadata": {},
   "outputs": [
    {
     "name": "stdout",
     "output_type": "stream",
     "text": [
      "True\n"
     ]
    }
   ],
   "source": [
    "def is_leap(year):\n",
    "    if(year % 4 == 0):\n",
    "        if(year % 100 == 0):\n",
    "            if(year % 400 == 0):\n",
    "                return True\n",
    "            return False\n",
    "        return True\n",
    "print(is_leap(1972))"
   ]
  },
  {
   "cell_type": "markdown",
   "id": "da883caa-173f-4d8a-af31-e3e3bb0f3f46",
   "metadata": {},
   "source": [
    "2. The computer will be given two values, a and b, to perform integer division and handle exceptions:"
   ]
  },
  {
   "cell_type": "code",
   "execution_count": 79,
   "id": "c711dcdc-8414-49ae-9f81-4a657846e62c",
   "metadata": {},
   "outputs": [
    {
     "name": "stdin",
     "output_type": "stream",
     "text": [
      "Enter the number of trials:  3\n"
     ]
    },
    {
     "name": "stdout",
     "output_type": "stream",
     "text": [
      "\n",
      "Trial 1 \n",
      "----------------------------\n",
      "(a,b) = ('l', 5)\n",
      "a an b must be valid integers\n",
      "\n",
      "Trial 2 \n",
      "----------------------------\n",
      "(a,b) = (9, 7)\n",
      "a/b = 1\n",
      "\n",
      "Trial 3 \n",
      "----------------------------\n",
      "(a,b) = (7, 2)\n",
      "a/b = 3\n",
      "\n"
     ]
    }
   ],
   "source": [
    "import random\n",
    "def getTrials():\n",
    "    trials = input('Enter the number of trials: ')\n",
    "    try:\n",
    "        T = int(trials)\n",
    "        return T\n",
    "    except ValueError:\n",
    "        print('The number of trials must be a valid integer. Try again.')\n",
    "        getTrials()\n",
    "def int_division(args):\n",
    "    try:\n",
    "        quotient = args[0]//args[1]\n",
    "        print('a/b =',quotient)\n",
    "    except TypeError:\n",
    "        print('a an b must be valid integers')\n",
    "    except ZeroDivisionError:\n",
    "        print('ERROR: cannot divide by zero')\n",
    "def generate_chars():\n",
    "    chars = list(range(10))+['%', 'A', 'l']\n",
    "    index1 = random.randint(0,len(chars)-1)\n",
    "    index2 = random.randint(0,len(chars)-1)\n",
    "    return (chars[index1], chars[index2])\n",
    "def main():\n",
    "    N = getTrials()\n",
    "    print()\n",
    "    if (N >0):\n",
    "        for i in range(N):\n",
    "            args = generate_chars()\n",
    "            print('Trial',i+1,'\\n'+'-'*28)\n",
    "            print('(a,b) =', args)\n",
    "            int_division(args)\n",
    "            print()\n",
    "    else:\n",
    "        print('No experiments performed')           \n",
    "main()"
   ]
  }
 ],
 "metadata": {
  "kernelspec": {
   "display_name": "Python 3 (ipykernel)",
   "language": "python",
   "name": "python3"
  },
  "language_info": {
   "codemirror_mode": {
    "name": "ipython",
    "version": 3
   },
   "file_extension": ".py",
   "mimetype": "text/x-python",
   "name": "python",
   "nbconvert_exporter": "python",
   "pygments_lexer": "ipython3",
   "version": "3.9.7"
  }
 },
 "nbformat": 4,
 "nbformat_minor": 5
}
