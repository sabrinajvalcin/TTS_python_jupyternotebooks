{
 "cells": [
  {
   "cell_type": "markdown",
   "id": "9accf1b3-dca7-40b1-b9e5-2eb38b51c609",
   "metadata": {},
   "source": [
    "## Exercise 1\n",
    "\n",
    "You are given a space separated list of numbers.\n",
    "\n",
    "Your task is to print a reversed NumPy array with the element type float."
   ]
  },
  {
   "cell_type": "code",
   "execution_count": 1,
   "id": "08a76e0b-b147-4652-a104-0f19750dfdb9",
   "metadata": {},
   "outputs": [
    {
     "name": "stdin",
     "output_type": "stream",
     "text": [
      " 1 2 3 4 -8 -10\n"
     ]
    },
    {
     "name": "stdout",
     "output_type": "stream",
     "text": [
      "[-10.  -8.   4.   3.   2.   1.]\n"
     ]
    }
   ],
   "source": [
    "import numpy as np\n",
    "\n",
    "def reverseArray(arr):\n",
    "    return np.array(arr[::-1], float)\n",
    "arr = input().strip().split(' ')\n",
    "print(reverseArray(arr))"
   ]
  },
  {
   "cell_type": "markdown",
   "id": "3d7f6d79-32fb-45a0-8a64-5680031762d0",
   "metadata": {},
   "source": [
    "## Exercise 2\n",
    "\n",
    "You are given the coefficients of a polynomial **P**.\n",
    "\n",
    "Your task is to find the value of **P** at point ***x***.\n",
    "\n",
    "**Input Format**\n",
    "\n",
    "The first line contains the space separated value of the coefficients in **P**.\n",
    "The second line contains the value of ***x***.\n",
    "\n",
    "**Output Format**\n",
    "\n",
    "Print the desired value.\n",
    "\n"
   ]
  },
  {
   "cell_type": "code",
   "execution_count": 3,
   "id": "61929463-9598-4b5c-a891-ec717edda954",
   "metadata": {},
   "outputs": [
    {
     "name": "stdin",
     "output_type": "stream",
     "text": [
      " 1.1 2 3 \n",
      " 0 \n"
     ]
    },
    {
     "name": "stdout",
     "output_type": "stream",
     "text": [
      "3.0\n"
     ]
    }
   ],
   "source": [
    "pol_coeff = np.array(input().strip().split(' '), float)\n",
    "input_x = float(input().strip())\n",
    "def f(coeff, x):\n",
    "    return np.polyval(coeff, x)\n",
    "print(f(pol_coeff, input_x))"
   ]
  },
  {
   "cell_type": "code",
   "execution_count": null,
   "id": "b4249e0d-d563-430f-b0aa-d3ddb62f8d97",
   "metadata": {},
   "outputs": [],
   "source": []
  }
 ],
 "metadata": {
  "kernelspec": {
   "display_name": "Python 3 (ipykernel)",
   "language": "python",
   "name": "python3"
  },
  "language_info": {
   "codemirror_mode": {
    "name": "ipython",
    "version": 3
   },
   "file_extension": ".py",
   "mimetype": "text/x-python",
   "name": "python",
   "nbconvert_exporter": "python",
   "pygments_lexer": "ipython3",
   "version": "3.9.7"
  }
 },
 "nbformat": 4,
 "nbformat_minor": 5
}
