{
 "cells": [
  {
   "cell_type": "markdown",
   "id": "c77b3bf9-062c-4094-94a4-83c1510f7140",
   "metadata": {},
   "source": [
    "### Validating and Parsing Email Addresses"
   ]
  },
  {
   "cell_type": "markdown",
   "id": "9388089a-711f-424c-9664-9b2191cc3faf",
   "metadata": {},
   "source": [
    "A valid email address meets the following criteria:\n",
    "* It's composed of a username, domain name, and extension assembled in this format: username@domain.extension\n",
    "* The username starts with an English alphabetical character, and any subsequent characters consist of one or more of the following: alphanumeric characters, -,., and _.\n",
    "* The domain and extension contain only English alphabetical characters.\n",
    "* The extension is 1, 2, or 3 characters in length.\n",
    "\n",
    "Given *n* pairs of names and email addresses as input, print each name and email address pair having a valid email address on a new line."
   ]
  },
  {
   "cell_type": "code",
   "execution_count": 41,
   "id": "73a0b28a-b4fa-42c5-a8b7-64bb78dbd304",
   "metadata": {},
   "outputs": [
    {
     "name": "stdout",
     "output_type": "stream",
     "text": [
      "DEXTER <dexter@hotmail.com>\n",
      "SABRINA <s.val_123@jay.o>\n",
      "JOSE <josedD@one.gov>\n"
     ]
    }
   ],
   "source": [
    "import re\n",
    "sample_info = '''\n",
    "DEXTER <dexter@hotmail.com>\n",
    "VIRUS <virus!@variable.:p>\n",
    "SABRINA <s.val_123@jay.o>\n",
    "JOSE <josedD@one.gov>\n",
    "'''\n",
    "def IsValidEmail(emails):\n",
    "    pattern = re.compile(r'([A-Z]+)\\s(<[A-Za-z][\\w.-]*@[A-Za-z]+\\.[A-Za-z]{1,3}>)')\n",
    "    matches = pattern.finditer(emails)\n",
    "    for match in matches:\n",
    "        print(match.group(1), match.group(2))\n",
    "\n",
    "IsValidEmail(sample_info)"
   ]
  },
  {
   "cell_type": "markdown",
   "id": "aa82cdc6-9947-49fa-8753-aa91f3319852",
   "metadata": {},
   "source": [
    "### Regex Substitution\n"
   ]
  },
  {
   "cell_type": "markdown",
   "id": "d49a1dd1-bb2b-4433-a21b-ecee3889dcaf",
   "metadata": {},
   "source": [
    "You are given a text of N lines. The text contains && and || symbols. \n",
    "Your task is to modify those symbols to the following:\n",
    "* && → and\n",
    "* || → or"
   ]
  },
  {
   "cell_type": "code",
   "execution_count": 40,
   "id": "4dd819f7-3955-45f4-9768-660ae39bd4bb",
   "metadata": {},
   "outputs": [
    {
     "name": "stdout",
     "output_type": "stream",
     "text": [
      "\n",
      "a = 1;\n",
      "b = input();\n",
      "\n",
      "if a + b > 0 and a - b < 0:\n",
      "    start()\n",
      "elif a*b > 10 or a/b < 1:\n",
      "    stop()\n",
      "print set(list(a)) | set(list(b)) \n",
      "\n"
     ]
    }
   ],
   "source": [
    "sample_input = '''\n",
    "a = 1;\n",
    "b = input();\n",
    "\n",
    "if a + b > 0 && a - b < 0:\n",
    "    start()\n",
    "elif a*b > 10 || a/b < 1:\n",
    "    stop()\n",
    "print set(list(a)) | set(list(b)) \n",
    "'''\n",
    "def replaceAndOr(match):\n",
    "    if(match.group(1) == '&&'):\n",
    "        return ' and '\n",
    "    elif(match.group(1) == '||'):\n",
    "        return ' or '  \n",
    "print(re.sub(r'\\s([&|\\|]{2})\\s',replaceAndOr, sample_input))"
   ]
  }
 ],
 "metadata": {
  "kernelspec": {
   "display_name": "Python 3 (ipykernel)",
   "language": "python",
   "name": "python3"
  },
  "language_info": {
   "codemirror_mode": {
    "name": "ipython",
    "version": 3
   },
   "file_extension": ".py",
   "mimetype": "text/x-python",
   "name": "python",
   "nbconvert_exporter": "python",
   "pygments_lexer": "ipython3",
   "version": "3.9.7"
  }
 },
 "nbformat": 4,
 "nbformat_minor": 5
}
