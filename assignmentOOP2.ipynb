{
 "cells": [
  {
   "cell_type": "markdown",
   "id": "6717b2ed-7f21-42f2-90f5-bb58e7b40ded",
   "metadata": {},
   "source": [
    "## Inheritance: Exercise 1"
   ]
  },
  {
   "cell_type": "markdown",
   "id": "653e9278-1dc9-4fc6-9d0a-938c071d1367",
   "metadata": {},
   "source": [
    "You are given two classes, Person and Student, where Person is the base class and Student is the derived class. Completed code for Person and a declaration for Student are provided for you in the editor. Observe that Student inherits all the properties of Person.\n",
    "\n",
    "Complete the Student class by writing the following:\n",
    "\n",
    "A Student class constructor, which has 4 parameters:\n",
    "- A string, firstName\n",
    "- A string, lastName\n",
    "- An integer, id An integer array (or vector) of test scores, scores\n",
    "- A char calculate() method that calculates a Student object's average and returns the grade character representative of their calculated average:\n",
    "\n",
    "```\n",
    "A | 90-100\n",
    "B | 80-89\n",
    "C | 70-79\n",
    "D | 60-69\n",
    "F | <60\n",
    "```      "
   ]
  },
  {
   "cell_type": "code",
   "execution_count": 36,
   "id": "0a09e051-6574-4954-ba67-629d4150497b",
   "metadata": {},
   "outputs": [
    {
     "name": "stdout",
     "output_type": "stream",
     "text": [
      "Name: Pierre, Katia\n",
      "ID: 1\n",
      "Grade: A\n",
      "\n",
      "Name: Knight, James\n",
      "ID: 2\n",
      "Grade: C\n"
     ]
    }
   ],
   "source": [
    "class Person:\n",
    "    first_name = ''\n",
    "    last_name = ''\n",
    "    def __init__(self, firstName, lastName):\n",
    "        self.first_name = firstName\n",
    "        self.last_name = lastName\n",
    "\n",
    "class Student(Person):\n",
    "    iD = 0\n",
    "    test_scores = []\n",
    "    def __init__(self, firstName, lastName, id, scores):\n",
    "        super().__init__(firstName, lastName)\n",
    "        self.iD = id\n",
    "        self.test_scores = scores.copy()\n",
    "    def calculate(self):\n",
    "        num_grade = sum(self.test_scores)/len(self.test_scores)\n",
    "        letter_grade = ''\n",
    "        if num_grade < 60:\n",
    "            letter_grade = 'F'\n",
    "        elif num_grade < 70:\n",
    "            letter_grade = 'D'\n",
    "        elif num_grade < 80:\n",
    "            letter_grade = 'C'\n",
    "        elif num_grade < 90:\n",
    "            letter_grade = 'B'\n",
    "        else:\n",
    "            letter_grade = 'A'\n",
    "        return letter_grade\n",
    "    def __str__(self):\n",
    "        string_rep = 'Name: %s, %s\\nID: %d\\nGrade: %s' % (self.last_name, self.first_name,self.iD, self.calculate())\n",
    "        return string_rep\n",
    "        \n",
    "            \n",
    "student1 = Student('Katia', 'Pierre', 1, [100,83,86,100])\n",
    "student2 = Student('James', 'Knight', 2, [52,65,89,91])\n",
    "print(student1, student2, sep ='\\n\\n')\n",
    "\n"
   ]
  },
  {
   "cell_type": "code",
   "execution_count": null,
   "id": "f6609cdf-c296-4bef-993a-9f59a46b7819",
   "metadata": {},
   "outputs": [],
   "source": []
  }
 ],
 "metadata": {
  "kernelspec": {
   "display_name": "Python 3 (ipykernel)",
   "language": "python",
   "name": "python3"
  },
  "language_info": {
   "codemirror_mode": {
    "name": "ipython",
    "version": 3
   },
   "file_extension": ".py",
   "mimetype": "text/x-python",
   "name": "python",
   "nbconvert_exporter": "python",
   "pygments_lexer": "ipython3",
   "version": "3.9.7"
  }
 },
 "nbformat": 4,
 "nbformat_minor": 5
}
