{
 "cells": [
  {
   "cell_type": "markdown",
   "id": "b242b85b-eab4-445c-af1d-c5674a7180ee",
   "metadata": {},
   "source": [
    "# Control Flow Assignment"
   ]
  },
  {
   "cell_type": "markdown",
   "id": "6dd530ec-b3bf-44af-a3a7-06f10fce5711",
   "metadata": {},
   "source": [
    "**1. Guess a number between 1 to 9 given by the user.**"
   ]
  },
  {
   "cell_type": "code",
   "execution_count": 23,
   "id": "ee72b414-b0a2-4df3-b2ab-6a4d1f1fe302",
   "metadata": {},
   "outputs": [
    {
     "name": "stdin",
     "output_type": "stream",
     "text": [
      "Enter an integer between 1 to 9:  5\n"
     ]
    },
    {
     "name": "stdout",
     "output_type": "stream",
     "text": [
      "The computer did not guess 5\n"
     ]
    }
   ],
   "source": [
    "import random\n",
    "user_num = input('Enter an integer between 1 to 9: ')\n",
    "computer_guess = random.randint(1,9)\n",
    "if(computer_guess == int(user_num)):\n",
    "    print( 'The computer also guessed ',computer_guess,'!', sep = '')\n",
    "else:\n",
    "    print('The computer did not guess ', user_num, sep ='')"
   ]
  },
  {
   "cell_type": "markdown",
   "id": "57244f03-6720-46a1-88f7-dd6956e1c06e",
   "metadata": {},
   "source": [
    "**2. Check the validity of password input by the user.**<br><br>Validation: \n",
    "* At least 1 letter between [a-z] and 1 letter between [A-Z]\n",
    "* At least 1 number between [0-9]\n",
    "* At least 1 character from [$#@]\n",
    "* Minimum length 6 characters\n",
    "* Maximum length 16 characters"
   ]
  },
  {
   "cell_type": "code",
   "execution_count": 62,
   "id": "33a1e595-eb8d-4d5f-9211-8a96237d3ae0",
   "metadata": {},
   "outputs": [
    {
     "name": "stdout",
     "output_type": "stream",
     "text": [
      "Enter a passowrd with the following characterisitcs:\n",
      "        At least 1 letter between [a-z] and 1 letter between [A-Z]\n",
      "        At least 1 number between [0-9]At least 1 character from [$#@]\n",
      "        Minimum length 6 characters \n",
      "        Maximum length 16 characters\n"
     ]
    },
    {
     "name": "stdin",
     "output_type": "stream",
     "text": [
      "password:  A@a1234_5\n"
     ]
    },
    {
     "name": "stdout",
     "output_type": "stream",
     "text": [
      "Saving password...\n"
     ]
    }
   ],
   "source": [
    "hasLower = False\n",
    "hasUpper = False\n",
    "hasSpecial = False\n",
    "hasNum = False\n",
    "A = 65\n",
    "a = 97\n",
    "ZERO = 48\n",
    "special = '$#@'\n",
    "instructions =(\"Enter a passowrd with the following characterisitcs:\\n\\\n",
    "        At least 1 letter between [a-z] and 1 letter between [A-Z]\\n\\\n",
    "        At least 1 number between [0-9]At least 1 character from [$#@]\\n\\\n",
    "        Minimum length 6 characters \\n\\\n",
    "        Maximum length 16 characters\")\n",
    "print(instructions)\n",
    "password = input('password: ')\n",
    "if(len(password) < 6):\n",
    "    print('Error: Password too short')\n",
    "elif(len(password) > 16):\n",
    "    print('Error: Password too long')\n",
    "else:\n",
    "    for ch in password:\n",
    "        if ord(ch) in range(a,a+26): #lower\n",
    "            hasLower = True\n",
    "        if ord(ch) in range(A, A+26): #upper\n",
    "            hasUpper = True\n",
    "        if ord(ch) in range(ZERO, ZERO+10):\n",
    "            hasNum = True\n",
    "        if ch in special:\n",
    "            hasSpecial = True\n",
    "    if(not hasLower):\n",
    "        print('Error: Password does not contain a lowercase letter.')\n",
    "    elif(not hasUpper):\n",
    "        print('Error: Password does not conatin an uppercase letter.')\n",
    "    elif(not hasNum):\n",
    "        print('Error: Password does not contain a number')\n",
    "    elif(not hasSpecial):\n",
    "        print('Error: Password does not contain one of these characters: [$#@]')\n",
    "    else:\n",
    "        print('Saving password...')     \n",
    "    "
   ]
  },
  {
   "cell_type": "markdown",
   "id": "cccd5f86-c197-4b65-bb16-62a13f8f8568",
   "metadata": {},
   "source": [
    "**3. Get input of the age of 3 people by user and determine oldest and youngest among them.**"
   ]
  },
  {
   "cell_type": "markdown",
   "id": "afe4c40e-e8a1-4644-9e65-e5c71ac6e442",
   "metadata": {},
   "source": [
    "**4. A student will not be allowed to sit in exam if his/her attendance is less than 75%.**<br><br>Take following input from user\n",
    "* Number of classes held\n",
    "* Number of classes attended.\n",
    "* And print\n",
    "* percentage of class attended\n",
    "* Is student is allowed to sit in exam or not?"
   ]
  },
  {
   "cell_type": "markdown",
   "id": "5e5a827f-99d9-4dd0-920b-c623a31dff67",
   "metadata": {},
   "source": [
    "**5. Get an integer N from the user and perform the following actions:** <br>\n",
    "* if N is odd, print \"weird\"\n",
    "* if N is even and in the inclusive range of 2 to 5, print \"Not Weird\"\n",
    "* if N is even and in the inclusive range of 6 to 20, print \"Weird\"\n",
    "* if N is even and greater than 20, print \"Not Weird\""
   ]
  },
  {
   "cell_type": "code",
   "execution_count": 60,
   "id": "2ee29578-4718-45cc-a83d-f5d7126f7d83",
   "metadata": {},
   "outputs": [
    {
     "name": "stdout",
     "output_type": "stream",
     "text": [
      "48\n"
     ]
    }
   ],
   "source": [
    "print(ord('0'))"
   ]
  },
  {
   "cell_type": "code",
   "execution_count": null,
   "id": "0b6851a1-2424-4998-a79b-9657f5fb1c28",
   "metadata": {},
   "outputs": [],
   "source": []
  }
 ],
 "metadata": {
  "kernelspec": {
   "display_name": "Python 3 (ipykernel)",
   "language": "python",
   "name": "python3"
  },
  "language_info": {
   "codemirror_mode": {
    "name": "ipython",
    "version": 3
   },
   "file_extension": ".py",
   "mimetype": "text/x-python",
   "name": "python",
   "nbconvert_exporter": "python",
   "pygments_lexer": "ipython3",
   "version": "3.9.7"
  }
 },
 "nbformat": 4,
 "nbformat_minor": 5
}
