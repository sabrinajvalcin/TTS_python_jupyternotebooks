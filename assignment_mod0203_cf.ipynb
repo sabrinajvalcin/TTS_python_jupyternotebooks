{
 "cells": [
  {
   "cell_type": "markdown",
   "id": "b242b85b-eab4-445c-af1d-c5674a7180ee",
   "metadata": {},
   "source": [
    "# Control Flow Assignment"
   ]
  },
  {
   "cell_type": "markdown",
   "id": "6dd530ec-b3bf-44af-a3a7-06f10fce5711",
   "metadata": {},
   "source": [
    "**1. Guess a number between 1 to 9 given by the user.**"
   ]
  },
  {
   "cell_type": "code",
   "execution_count": 23,
   "id": "ee72b414-b0a2-4df3-b2ab-6a4d1f1fe302",
   "metadata": {},
   "outputs": [
    {
     "name": "stdin",
     "output_type": "stream",
     "text": [
      "Enter an integer between 1 to 9:  5\n"
     ]
    },
    {
     "name": "stdout",
     "output_type": "stream",
     "text": [
      "The computer did not guess 5\n"
     ]
    }
   ],
   "source": [
    "import random\n",
    "user_num = input('Enter an integer between 1 to 9: ')\n",
    "computer_guess = random.randint(1,9)\n",
    "if(computer_guess == int(user_num)):\n",
    "    print( 'The computer also guessed ',computer_guess,'!', sep = '')\n",
    "else:\n",
    "    print('The computer did not guess ', user_num, sep ='')"
   ]
  },
  {
   "cell_type": "markdown",
   "id": "57244f03-6720-46a1-88f7-dd6956e1c06e",
   "metadata": {},
   "source": [
    "**2. Check the validity of password input by the user.**<br><br>Validation: \n",
    "* At least 1 letter between [a-z] and 1 letter between [A-Z]\n",
    "* At least 1 number between [0-9]\n",
    "* At least 1 character from [$#@]\n",
    "* Minimum length 6 characters\n",
    "* Maximum length 16 characters"
   ]
  },
  {
   "cell_type": "code",
   "execution_count": 17,
   "id": "33a1e595-eb8d-4d5f-9211-8a96237d3ae0",
   "metadata": {},
   "outputs": [
    {
     "name": "stdout",
     "output_type": "stream",
     "text": [
      "Enter a passowrd with the following characterisitcs:\n",
      "        At least 1 letter between [a-z] and 1 letter between [A-Z]\n",
      "        At least 1 number between [0-9]At least 1 character from [$#@]\n",
      "        Minimum length 6 characters \n",
      "        Maximum length 16 characters\n"
     ]
    },
    {
     "name": "stdin",
     "output_type": "stream",
     "text": [
      "password:  Abirnvas#\n"
     ]
    },
    {
     "name": "stdout",
     "output_type": "stream",
     "text": [
      "Error: Password does not contain a number\n"
     ]
    }
   ],
   "source": [
    "hasLower = False\n",
    "hasUpper = False\n",
    "hasSpecial = False\n",
    "hasNum = False\n",
    "A = 65\n",
    "a = 97\n",
    "ZERO = 48\n",
    "special = '$#@'\n",
    "instructions =(\"Enter a passowrd with the following characterisitcs:\\n\\\n",
    "        At least 1 letter between [a-z] and 1 letter between [A-Z]\\n\\\n",
    "        At least 1 number between [0-9]At least 1 character from [$#@]\\n\\\n",
    "        Minimum length 6 characters \\n\\\n",
    "        Maximum length 16 characters\")\n",
    "print(instructions)\n",
    "password = input('password: ')\n",
    "if(len(password) < 6):\n",
    "    print('Error: Password too short')\n",
    "elif(len(password) > 16):\n",
    "    print('Error: Password too long')\n",
    "else:\n",
    "    for ch in password:\n",
    "        char_code = ord(ch)\n",
    "        if char_code in range(a,a+26): #lower\n",
    "            hasLower = True\n",
    "        if char_code in range(A, A+26): #upper\n",
    "            hasUpper = True\n",
    "        if char_code in range(ZERO, ZERO+10):\n",
    "            hasNum = True\n",
    "        if ch in special:\n",
    "            hasSpecial = True\n",
    "    if(not hasLower):\n",
    "        print('Error: Password does not contain a lowercase letter.')\n",
    "    elif(not hasUpper):\n",
    "        print('Error: Password does not conatin an uppercase letter.')\n",
    "    elif(not hasNum):\n",
    "        print('Error: Password does not contain a number')\n",
    "    elif(not hasSpecial):\n",
    "        print('Error: Password does not contain one of these characters: [$#@]')\n",
    "    else:\n",
    "        print('Saving password...')     \n",
    "    "
   ]
  },
  {
   "cell_type": "markdown",
   "id": "cccd5f86-c197-4b65-bb16-62a13f8f8568",
   "metadata": {},
   "source": [
    "**3. Get input of the age of 3 people by user and determine oldest and youngest among them.**"
   ]
  },
  {
   "cell_type": "code",
   "execution_count": 10,
   "id": "0b6851a1-2424-4998-a79b-9657f5fb1c28",
   "metadata": {},
   "outputs": [
    {
     "name": "stdin",
     "output_type": "stream",
     "text": [
      "Enter the ages of three people, each separated by a space:  37 54 51\n"
     ]
    },
    {
     "name": "stdout",
     "output_type": "stream",
     "text": [
      "youngest: 37\n",
      "oldest: 54\n"
     ]
    }
   ],
   "source": [
    "user_input = input('Enter the ages of three people, each separated by a space: ')\n",
    "ages = user_input.split(' ')\n",
    "ages.sort()\n",
    "youngest = int(ages[0])\n",
    "oldest = int(ages[2])\n",
    "print('youngest: ', youngest,'\\n', 'oldest: ', oldest, sep ='')"
   ]
  },
  {
   "cell_type": "markdown",
   "id": "afe4c40e-e8a1-4644-9e65-e5c71ac6e442",
   "metadata": {},
   "source": [
    "**4. A student will not be allowed to sit in exam if his/her attendance is less than 75%.**<br><br>\n",
    "Take following input from user\n",
    "* Number of classes held\n",
    "* Number of classes attended\n",
    "\n",
    "Print the percentage of class attended. Is student is allowed to sit in exam or not?"
   ]
  },
  {
   "cell_type": "code",
   "execution_count": 24,
   "id": "c3bdb877-a235-4c9c-b37b-87042f154305",
   "metadata": {},
   "outputs": [
    {
     "name": "stdin",
     "output_type": "stream",
     "text": [
      "Enter the number of classes held:  4\n",
      "Enter the number of classes attended:  3\n"
     ]
    },
    {
     "name": "stdout",
     "output_type": "stream",
     "text": [
      "Attendance:  75.00\n",
      "Can take exam\n"
     ]
    }
   ],
   "source": [
    "min = 75.0\n",
    "num_classes = int(input('Enter the number of classes held: '))\n",
    "num_attended = int(input('Enter the number of classes attended: '))\n",
    "attendance = (num_attended/num_classes)*100\n",
    "print('Attendance: ', format(attendance, '.2f'))\n",
    "if(attendance >= min):\n",
    "    print('Can take exam')\n",
    "else:\n",
    "    print('Cannot take exam')"
   ]
  },
  {
   "cell_type": "markdown",
   "id": "5e5a827f-99d9-4dd0-920b-c623a31dff67",
   "metadata": {},
   "source": [
    "**5. Get an integer N from the user and perform the following actions:** <br>\n",
    "* if N is odd, print \"weird\"\n",
    "* if N is even and in the inclusive range of 2 to 5, print \"Not Weird\"\n",
    "* if N is even and in the inclusive range of 6 to 20, print \"Weird\"\n",
    "* if N is even and greater than 20, print \"Not Weird\""
   ]
  },
  {
   "cell_type": "code",
   "execution_count": 30,
   "id": "2ee29578-4718-45cc-a83d-f5d7126f7d83",
   "metadata": {},
   "outputs": [
    {
     "name": "stdin",
     "output_type": "stream",
     "text": [
      "Enter an integer:  18\n"
     ]
    },
    {
     "name": "stdout",
     "output_type": "stream",
     "text": [
      "Weird\n"
     ]
    }
   ],
   "source": [
    "N = int(input('Enter an integer: '))\n",
    "if(N % 2 != 0):\n",
    "    print('weird')\n",
    "else:\n",
    "    if(N < 5):\n",
    "        print('Not weird')\n",
    "    elif (N <= 20):\n",
    "        print('Weird')\n",
    "    else:\n",
    "        print('Not Weird')"
   ]
  }
 ],
 "metadata": {
  "kernelspec": {
   "display_name": "Python 3 (ipykernel)",
   "language": "python",
   "name": "python3"
  },
  "language_info": {
   "codemirror_mode": {
    "name": "ipython",
    "version": 3
   },
   "file_extension": ".py",
   "mimetype": "text/x-python",
   "name": "python",
   "nbconvert_exporter": "python",
   "pygments_lexer": "ipython3",
   "version": "3.9.7"
  }
 },
 "nbformat": 4,
 "nbformat_minor": 5
}
