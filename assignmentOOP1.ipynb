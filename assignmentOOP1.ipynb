{
 "cells": [
  {
   "cell_type": "markdown",
   "id": "888efe5b-65a9-47b4-86a2-764be75d55d5",
   "metadata": {},
   "source": [
    "# Classes: Dealing with Complex Numbers"
   ]
  },
  {
   "cell_type": "code",
   "execution_count": 24,
   "id": "48e0f241-11f0-41fc-8eef-054ff65af4f8",
   "metadata": {},
   "outputs": [
    {
     "name": "stdout",
     "output_type": "stream",
     "text": [
      "7.00+7.00i\n",
      "-3.00-5.00i\n",
      "4.00+17.00i\n",
      "0.26-0.11i\n",
      "2.24+0.00i\n",
      "7.81+0.00i\n"
     ]
    }
   ],
   "source": [
    "class Complex(object):\n",
    "    def __init__(self, real_part, im_part):\n",
    "        self.__real = real_part\n",
    "        self.__imaginary = im_part\n",
    "    # overload arithmetic operators\n",
    "    def __add__(self, other):\n",
    "        return Complex(self.__real + other.__real, self.__imaginary +other.__imaginary)\n",
    "    def __sub__(self, other):\n",
    "        return Complex(self.__real - other.__real, self.__imaginary - other.__imaginary)\n",
    "    def __mul__(self,other):\n",
    "        re = (self.__real*other.__real)+(self.__imaginary*other.__imaginary*-1)\n",
    "        im = (self.__real*other.__imaginary)+(other.__real*self.__imaginary)\n",
    "        return Complex(re, im)\n",
    "    def __truediv__(self, other):\n",
    "        re = (self.__real*other.__real)+(self.__imaginary*other.__imaginary)\n",
    "        im = (self.__imaginary*other.__real)-(self.__real*other.__imaginary)\n",
    "        denom = other.__real**2 + other.__imaginary**2\n",
    "        return Complex(re/denom, im/denom)\n",
    "    def mod(self):\n",
    "        result = (self.__real**2 + self.__imaginary**2)**(1/2)\n",
    "        return Complex(result, 0)\n",
    "    def __str__(self):\n",
    "        re = self.__real\n",
    "        im = self.__imaginary\n",
    "        if im < 0:\n",
    "            str_representation = '%.2f-%.2fi' %(self.__real, self.__imaginary*-1)\n",
    "        else:\n",
    "            str_representation = '%.2f+%.2fi' %(self.__real, self.__imaginary)\n",
    "        return str_representation\n",
    "def output(c1, c2):\n",
    "    for result in [c1+c2, c1-c2, c1*c2, c1/c2, c1.mod(), c2.mod()]:\n",
    "        print(result)\n",
    "x = Complex(2,1)\n",
    "y = Complex(5,6)\n",
    "output(x,y)\n"
   ]
  },
  {
   "cell_type": "code",
   "execution_count": null,
   "id": "c5a799cf-81cb-4860-9d8b-40be5ab8d1dd",
   "metadata": {},
   "outputs": [],
   "source": []
  }
 ],
 "metadata": {
  "kernelspec": {
   "display_name": "Python 3 (ipykernel)",
   "language": "python",
   "name": "python3"
  },
  "language_info": {
   "codemirror_mode": {
    "name": "ipython",
    "version": 3
   },
   "file_extension": ".py",
   "mimetype": "text/x-python",
   "name": "python",
   "nbconvert_exporter": "python",
   "pygments_lexer": "ipython3",
   "version": "3.9.7"
  }
 },
 "nbformat": 4,
 "nbformat_minor": 5
}
