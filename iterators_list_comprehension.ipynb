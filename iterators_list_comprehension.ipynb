{
 "cells": [
  {
   "cell_type": "markdown",
   "id": "e51530b0-8f62-4a31-aa77-d13acee939db",
   "metadata": {},
   "source": [
    "# Iterators and List Comprehension"
   ]
  },
  {
   "cell_type": "markdown",
   "id": "c46cb9fb-9a30-46b5-a2b6-656ac518c91e",
   "metadata": {},
   "source": [
    "1. You are given two lists **A** and **B**. Your task is to compute their cartesian product AXB.\n",
    "\n",
    "    Example\n",
    "\n",
    "    A = [1, 2]<br>\n",
    "    B = [3, 4]\n",
    "\n",
    "    AxB = [(1, 3), (1, 4), (2, 3), (2, 4)]\n",
    "    \n",
    "    The cartesian product AxB returns all (a,b) for a in A and b in B\n",
    "    \n",
    "    **Input Format**<br>\n",
    "    The first line contains the space separated elements of list A .<br>\n",
    "    The second line contains the space separated elements of list B.<br>\n",
    "    Both lists have no duplicate integer elements.\n",
    "    \n",
    "    **Output Format**<br>\n",
    "    Output the space separated tuples of the cartesian product.\n",
    "    "
   ]
  },
  {
   "cell_type": "code",
   "execution_count": 29,
   "id": "2faf76ea-5cc8-4312-8b78-c1970f5cc9c6",
   "metadata": {},
   "outputs": [
    {
     "name": "stdout",
     "output_type": "stream",
     "text": [
      "(1, 4) (1, 5) (1, 6) (1, 8) (2, 4) (2, 5) (2, 6) (2, 8) (3, 4) (3, 5) (3, 6) (3, 8) (4, 4) (4, 5) (4, 6) (4, 8)\n"
     ]
    }
   ],
   "source": [
    "from itertools import product\n",
    "A = [1,2,3,4]\n",
    "B = [4,5,6,8]\n",
    "cart_product = product(A,B)\n",
    "print(*cart_product)\n"
   ]
  },
  {
   "cell_type": "markdown",
   "id": "4d5a8d1d-a179-4a53-841c-93de4d951395",
   "metadata": {},
   "source": [
    "2. You are given a string *S*. Your task is to print all possible permutations of size *k* of the string in lexicographic sorted order.\n",
    "\n",
    "    **Input Format**<br>\n",
    "    A single line containing the string *S* and the integer value *k* separated by a space.<br>\n",
    "    \n",
    "    **Output Format**<br>\n",
    "    Print the permutations of the string *S* on separate lines.\n",
    "    "
   ]
  },
  {
   "cell_type": "code",
   "execution_count": 33,
   "id": "4a38a318-a669-43f0-936d-da64023958e4",
   "metadata": {},
   "outputs": [
    {
     "name": "stdin",
     "output_type": "stream",
     "text": [
      "Enter a string, S, and an integer,k, separated by a space:  chat 3\n"
     ]
    },
    {
     "name": "stdout",
     "output_type": "stream",
     "text": [
      "Permutations\n",
      "---------------\n",
      "A C H\n",
      "A C T\n",
      "A H C\n",
      "A H T\n",
      "A T C\n",
      "A T H\n",
      "C A H\n",
      "C A T\n",
      "C H A\n",
      "C H T\n",
      "C T A\n",
      "C T H\n",
      "H A C\n",
      "H A T\n",
      "H C A\n",
      "H C T\n",
      "H T A\n",
      "H T C\n",
      "T A C\n",
      "T A H\n",
      "T C A\n",
      "T C H\n",
      "T H A\n",
      "T H C\n"
     ]
    }
   ],
   "source": [
    "from itertools import permutations\n",
    "def get_input():\n",
    "    user_input = input('Enter a string, S, and an integer,k, separated by a space: ').upper().split(' ')\n",
    "    S = sorted(user_input[0])\n",
    "    try:\n",
    "        k = int(user_input[1])\n",
    "    except:\n",
    "        k = len(S)\n",
    "    return S, k\n",
    "def get_permutations(args):\n",
    "        return permutations(args[0], args[1]) \n",
    "def main():\n",
    "    nPr = get_permutations(get_input())\n",
    "    print('Permutations\\n'+'-'*15)\n",
    "    for permutation in nPr:\n",
    "        print(*permutation)\n",
    "main()"
   ]
  },
  {
   "cell_type": "markdown",
   "id": "b3cdf262-7e83-4e29-8d73-7e079e4a0bd0",
   "metadata": {},
   "source": [
    "3. You are given a string *S*. Your task is to print all possible size k replacement combinations of the string in lexicographic sorted order.\n",
    "\n",
    "    **Input Format**<br>\n",
    "    A single line containing the string *S* and the integer value *k* separated by a space.<br>\n",
    "    \n",
    "    **Output Format**<br>\n",
    "    Print the combinations with their replacements of string  on separate lines"
   ]
  },
  {
   "cell_type": "code",
   "execution_count": 34,
   "id": "30d6c7dc-9e64-4c12-ac65-4ae2b00fca9f",
   "metadata": {},
   "outputs": [
    {
     "name": "stdin",
     "output_type": "stream",
     "text": [
      "Enter a string, S, and an integer,k, separated by a space:  sac 2\n"
     ]
    },
    {
     "name": "stdout",
     "output_type": "stream",
     "text": [
      "Combinations\n",
      "---------------\n",
      "A A\n",
      "A C\n",
      "A S\n",
      "C C\n",
      "C S\n",
      "S S\n"
     ]
    }
   ],
   "source": [
    "from itertools import combinations_with_replacement as combinations\n",
    "def get_combinations(args):\n",
    "        return list(combinations(args[0], args[1])) \n",
    "def main():\n",
    "    combs = get_combinations(get_input())\n",
    "    if len(combs) < 1:\n",
    "        print('Error, k must be less than or equal to the length of the string')\n",
    "    else:\n",
    "        print('Combinations\\n'+'-'*15)\n",
    "        for combination in combs:\n",
    "            print(*combination)\n",
    "main()\n",
    "    "
   ]
  },
  {
   "cell_type": "code",
   "execution_count": null,
   "id": "cb26e217-6b36-4448-8f06-dca12b2d087b",
   "metadata": {},
   "outputs": [],
   "source": []
  }
 ],
 "metadata": {
  "kernelspec": {
   "display_name": "Python 3 (ipykernel)",
   "language": "python",
   "name": "python3"
  },
  "language_info": {
   "codemirror_mode": {
    "name": "ipython",
    "version": 3
   },
   "file_extension": ".py",
   "mimetype": "text/x-python",
   "name": "python",
   "nbconvert_exporter": "python",
   "pygments_lexer": "ipython3",
   "version": "3.9.7"
  }
 },
 "nbformat": 4,
 "nbformat_minor": 5
}
