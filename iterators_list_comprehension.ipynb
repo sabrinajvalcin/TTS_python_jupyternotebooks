{
 "cells": [
  {
   "cell_type": "markdown",
   "id": "e51530b0-8f62-4a31-aa77-d13acee939db",
   "metadata": {},
   "source": [
    "# Iterators and List Comprehension"
   ]
  },
  {
   "cell_type": "markdown",
   "id": "c46cb9fb-9a30-46b5-a2b6-656ac518c91e",
   "metadata": {},
   "source": [
    "1. You are given two lists **A** and **B**. Your task is to compute their cartesian product AXB.\n",
    "\n",
    "    Example\n",
    "\n",
    "    A = [1, 2]<br>\n",
    "    B = [3, 4]\n",
    "\n",
    "    AxB = [(1, 3), (1, 4), (2, 3), (2, 4)]\n",
    "    \n",
    "    The cartesian product AxB returns all (a,b) for a in A and b in B\n",
    "    \n",
    "    **Input Format**<br>\n",
    "    The first line contains the space separated elements of list A .<br>\n",
    "    The second line contains the space separated elements of list B.<br>\n",
    "    Both lists have no duplicate integer elements.\n",
    "    \n",
    "    **Output Format**<br>\n",
    "    Output the space separated tuples of the cartesian product.\n",
    "    "
   ]
  },
  {
   "cell_type": "code",
   "execution_count": 14,
   "id": "2faf76ea-5cc8-4312-8b78-c1970f5cc9c6",
   "metadata": {},
   "outputs": [],
   "source": [
    "from itertools import product\n",
    "A = '3 12 4 6 7 8 90'\n",
    "B = '4 5 6 17 14 21 23 47 57'\n",
    "a_list = A.split(' ')\n",
    "b_list = B.split(' ')\n",
    "cart_product = list(product(a_list,b_list))\n",
    "for element in cart_product:\n",
    "    pair = (int(element[0]), int(element[1]))\n",
    "    print(pair)\n"
   ]
  },
  {
   "cell_type": "markdown",
   "id": "4d5a8d1d-a179-4a53-841c-93de4d951395",
   "metadata": {},
   "source": [
    "2. You are given a string *S*. Your task is to print all possible permutations of size *k* of the string in lexicographic sorted order.\n",
    "\n",
    "    **Input Format**<br>\n",
    "    A single line containing the string *S* and the integer value *k* separated by a space.<br>\n",
    "    \n",
    "    **Output Format**<br>\n",
    "    Print the permutations of the string *S* on separate lines.\n",
    "    "
   ]
  },
  {
   "cell_type": "code",
   "execution_count": 62,
   "id": "4a38a318-a669-43f0-936d-da64023958e4",
   "metadata": {},
   "outputs": [
    {
     "name": "stdin",
     "output_type": "stream",
     "text": [
      "Enter a string, S, and an integer,k, separated by a space:  cah\n"
     ]
    },
    {
     "name": "stdout",
     "output_type": "stream",
     "text": [
      "Permutations\n",
      "---------------\n",
      "ACH\n",
      "AHC\n",
      "CAH\n",
      "CHA\n",
      "HAC\n",
      "HCA\n"
     ]
    }
   ],
   "source": [
    "from itertools import permutations\n",
    "def get_input():\n",
    "    user_input = input('Enter a string, S, and an integer,k, separated by a space: ').upper().split(' ')\n",
    "    S = sorted(user_input[0])\n",
    "    try:\n",
    "        k = int(user_input[1])\n",
    "    except:\n",
    "        k = len(S)\n",
    "    return S, k\n",
    "def get_permutations(args):\n",
    "        return list(permutations(args[0], args[1])) \n",
    "def main():\n",
    "    nPr = get_permutations(get_input())\n",
    "    if len(nPr) < 1:\n",
    "        print('Error, k must be less than or equal to the length of the string')\n",
    "    else:\n",
    "        print('Permutations\\n'+'-'*15)\n",
    "        for permutation in nPr:\n",
    "            for item in permutation:\n",
    "                print(item,end ='')\n",
    "            print()\n",
    "main()"
   ]
  },
  {
   "cell_type": "markdown",
   "id": "b3cdf262-7e83-4e29-8d73-7e079e4a0bd0",
   "metadata": {},
   "source": [
    "3. You are given a string *S*. Your task is to print all possible size k replacement combinations of the string in lexicographic sorted order.\n",
    "\n",
    "    **Input Format**<br>\n",
    "    A single line containing the string *S* and the integer value *k* separated by a space.<br>\n",
    "    \n",
    "    **Output Format**<br>\n",
    "    Print the combinations with their replacements of string  on separate lines"
   ]
  },
  {
   "cell_type": "code",
   "execution_count": 64,
   "id": "30d6c7dc-9e64-4c12-ac65-4ae2b00fca9f",
   "metadata": {},
   "outputs": [
    {
     "name": "stdin",
     "output_type": "stream",
     "text": [
      "Enter a string, S, and an integer,k, separated by a space:  hack 2\n"
     ]
    },
    {
     "name": "stdout",
     "output_type": "stream",
     "text": [
      "Combinations\n",
      "---------------\n",
      "AA\n",
      "AC\n",
      "AH\n",
      "AK\n",
      "CC\n",
      "CH\n",
      "CK\n",
      "HH\n",
      "HK\n",
      "KK\n"
     ]
    }
   ],
   "source": [
    "from itertools import combinations_with_replacement as combinations\n",
    "def get_combinations(args):\n",
    "        return list(combinations(args[0], args[1])) \n",
    "def main():\n",
    "    combs = get_combinations(get_input())\n",
    "    if len(combs) < 1:\n",
    "        print('Error, k must be less than or equal to the length of the string')\n",
    "    else:\n",
    "        print('Combinations\\n'+'-'*15)\n",
    "        for combination in combs:\n",
    "            for item in combination:\n",
    "                print(item,end ='')\n",
    "            print()\n",
    "main()\n",
    "    "
   ]
  },
  {
   "cell_type": "code",
   "execution_count": null,
   "id": "cb26e217-6b36-4448-8f06-dca12b2d087b",
   "metadata": {},
   "outputs": [],
   "source": []
  }
 ],
 "metadata": {
  "kernelspec": {
   "display_name": "Python 3 (ipykernel)",
   "language": "python",
   "name": "python3"
  },
  "language_info": {
   "codemirror_mode": {
    "name": "ipython",
    "version": 3
   },
   "file_extension": ".py",
   "mimetype": "text/x-python",
   "name": "python",
   "nbconvert_exporter": "python",
   "pygments_lexer": "ipython3",
   "version": "3.9.7"
  }
 },
 "nbformat": 4,
 "nbformat_minor": 5
}
